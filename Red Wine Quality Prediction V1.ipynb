{
 "cells": [
  {
   "cell_type": "markdown",
   "id": "5935c417",
   "metadata": {},
   "source": [
    "## Import Library"
   ]
  },
  {
   "cell_type": "code",
   "execution_count": 1,
   "id": "243a7200",
   "metadata": {},
   "outputs": [],
   "source": [
    "import pandas as pd\n",
    "import numpy as np\n",
    "\n",
    "import matplotlib.pyplot as plt\n",
    "import seaborn as sns\n",
    "\n",
    "from sklearn.model_selection import train_test_split\n",
    "from sklearn.linear_model import LogisticRegression\n",
    "from sklearn.tree import DecisionTreeClassifier\n",
    "from sklearn.neighbors import KNeighborsClassifier\n",
    "from sklearn import svm\n",
    "from sklearn import metrics\n",
    "\n",
    "from sklearn import preprocessing\n",
    "\n",
    "from sklearn.metrics import accuracy_score, classification_report\n",
    "from sklearn.metrics import confusion_matrix, plot_confusion_matrix\n",
    "from sklearn.metrics import accuracy_score,f1_score, precision_score, recall_score, mean_squared_error\n",
    "\n",
    "import warnings\n",
    "warnings.filterwarnings(\"ignore\")\n",
    "\n",
    "# Style Text\n",
    "bold = '\\033[1m'\n",
    "normal = '\\033[0m'"
   ]
  },
  {
   "cell_type": "markdown",
   "id": "3ef14662",
   "metadata": {},
   "source": [
    "## Data Loading"
   ]
  },
  {
   "cell_type": "code",
   "execution_count": 2,
   "id": "aff17613",
   "metadata": {},
   "outputs": [
    {
     "data": {
      "text/html": [
       "<div>\n",
       "<style scoped>\n",
       "    .dataframe tbody tr th:only-of-type {\n",
       "        vertical-align: middle;\n",
       "    }\n",
       "\n",
       "    .dataframe tbody tr th {\n",
       "        vertical-align: top;\n",
       "    }\n",
       "\n",
       "    .dataframe thead th {\n",
       "        text-align: right;\n",
       "    }\n",
       "</style>\n",
       "<table border=\"1\" class=\"dataframe\">\n",
       "  <thead>\n",
       "    <tr style=\"text-align: right;\">\n",
       "      <th></th>\n",
       "      <th>fixed acidity</th>\n",
       "      <th>volatile acidity</th>\n",
       "      <th>citric acid</th>\n",
       "      <th>residual sugar</th>\n",
       "      <th>chlorides</th>\n",
       "      <th>free sulfur dioxide</th>\n",
       "      <th>total sulfur dioxide</th>\n",
       "      <th>density</th>\n",
       "      <th>pH</th>\n",
       "      <th>sulphates</th>\n",
       "      <th>alcohol</th>\n",
       "      <th>quality</th>\n",
       "    </tr>\n",
       "  </thead>\n",
       "  <tbody>\n",
       "    <tr>\n",
       "      <th>0</th>\n",
       "      <td>7.4</td>\n",
       "      <td>0.700</td>\n",
       "      <td>0.00</td>\n",
       "      <td>1.9</td>\n",
       "      <td>0.076</td>\n",
       "      <td>11.0</td>\n",
       "      <td>34.0</td>\n",
       "      <td>0.99780</td>\n",
       "      <td>3.51</td>\n",
       "      <td>0.56</td>\n",
       "      <td>9.4</td>\n",
       "      <td>5</td>\n",
       "    </tr>\n",
       "    <tr>\n",
       "      <th>1</th>\n",
       "      <td>7.8</td>\n",
       "      <td>0.880</td>\n",
       "      <td>0.00</td>\n",
       "      <td>2.6</td>\n",
       "      <td>0.098</td>\n",
       "      <td>25.0</td>\n",
       "      <td>67.0</td>\n",
       "      <td>0.99680</td>\n",
       "      <td>3.20</td>\n",
       "      <td>0.68</td>\n",
       "      <td>9.8</td>\n",
       "      <td>5</td>\n",
       "    </tr>\n",
       "    <tr>\n",
       "      <th>2</th>\n",
       "      <td>7.8</td>\n",
       "      <td>0.760</td>\n",
       "      <td>0.04</td>\n",
       "      <td>2.3</td>\n",
       "      <td>0.092</td>\n",
       "      <td>15.0</td>\n",
       "      <td>54.0</td>\n",
       "      <td>0.99700</td>\n",
       "      <td>3.26</td>\n",
       "      <td>0.65</td>\n",
       "      <td>9.8</td>\n",
       "      <td>5</td>\n",
       "    </tr>\n",
       "    <tr>\n",
       "      <th>3</th>\n",
       "      <td>11.2</td>\n",
       "      <td>0.280</td>\n",
       "      <td>0.56</td>\n",
       "      <td>1.9</td>\n",
       "      <td>0.075</td>\n",
       "      <td>17.0</td>\n",
       "      <td>60.0</td>\n",
       "      <td>0.99800</td>\n",
       "      <td>3.16</td>\n",
       "      <td>0.58</td>\n",
       "      <td>9.8</td>\n",
       "      <td>6</td>\n",
       "    </tr>\n",
       "    <tr>\n",
       "      <th>4</th>\n",
       "      <td>7.4</td>\n",
       "      <td>0.700</td>\n",
       "      <td>0.00</td>\n",
       "      <td>1.9</td>\n",
       "      <td>0.076</td>\n",
       "      <td>11.0</td>\n",
       "      <td>34.0</td>\n",
       "      <td>0.99780</td>\n",
       "      <td>3.51</td>\n",
       "      <td>0.56</td>\n",
       "      <td>9.4</td>\n",
       "      <td>5</td>\n",
       "    </tr>\n",
       "    <tr>\n",
       "      <th>...</th>\n",
       "      <td>...</td>\n",
       "      <td>...</td>\n",
       "      <td>...</td>\n",
       "      <td>...</td>\n",
       "      <td>...</td>\n",
       "      <td>...</td>\n",
       "      <td>...</td>\n",
       "      <td>...</td>\n",
       "      <td>...</td>\n",
       "      <td>...</td>\n",
       "      <td>...</td>\n",
       "      <td>...</td>\n",
       "    </tr>\n",
       "    <tr>\n",
       "      <th>1594</th>\n",
       "      <td>6.2</td>\n",
       "      <td>0.600</td>\n",
       "      <td>0.08</td>\n",
       "      <td>2.0</td>\n",
       "      <td>0.090</td>\n",
       "      <td>32.0</td>\n",
       "      <td>44.0</td>\n",
       "      <td>0.99490</td>\n",
       "      <td>3.45</td>\n",
       "      <td>0.58</td>\n",
       "      <td>10.5</td>\n",
       "      <td>5</td>\n",
       "    </tr>\n",
       "    <tr>\n",
       "      <th>1595</th>\n",
       "      <td>5.9</td>\n",
       "      <td>0.550</td>\n",
       "      <td>0.10</td>\n",
       "      <td>2.2</td>\n",
       "      <td>0.062</td>\n",
       "      <td>39.0</td>\n",
       "      <td>51.0</td>\n",
       "      <td>0.99512</td>\n",
       "      <td>3.52</td>\n",
       "      <td>0.76</td>\n",
       "      <td>11.2</td>\n",
       "      <td>6</td>\n",
       "    </tr>\n",
       "    <tr>\n",
       "      <th>1596</th>\n",
       "      <td>6.3</td>\n",
       "      <td>0.510</td>\n",
       "      <td>0.13</td>\n",
       "      <td>2.3</td>\n",
       "      <td>0.076</td>\n",
       "      <td>29.0</td>\n",
       "      <td>40.0</td>\n",
       "      <td>0.99574</td>\n",
       "      <td>3.42</td>\n",
       "      <td>0.75</td>\n",
       "      <td>11.0</td>\n",
       "      <td>6</td>\n",
       "    </tr>\n",
       "    <tr>\n",
       "      <th>1597</th>\n",
       "      <td>5.9</td>\n",
       "      <td>0.645</td>\n",
       "      <td>0.12</td>\n",
       "      <td>2.0</td>\n",
       "      <td>0.075</td>\n",
       "      <td>32.0</td>\n",
       "      <td>44.0</td>\n",
       "      <td>0.99547</td>\n",
       "      <td>3.57</td>\n",
       "      <td>0.71</td>\n",
       "      <td>10.2</td>\n",
       "      <td>5</td>\n",
       "    </tr>\n",
       "    <tr>\n",
       "      <th>1598</th>\n",
       "      <td>6.0</td>\n",
       "      <td>0.310</td>\n",
       "      <td>0.47</td>\n",
       "      <td>3.6</td>\n",
       "      <td>0.067</td>\n",
       "      <td>18.0</td>\n",
       "      <td>42.0</td>\n",
       "      <td>0.99549</td>\n",
       "      <td>3.39</td>\n",
       "      <td>0.66</td>\n",
       "      <td>11.0</td>\n",
       "      <td>6</td>\n",
       "    </tr>\n",
       "  </tbody>\n",
       "</table>\n",
       "<p>1599 rows × 12 columns</p>\n",
       "</div>"
      ],
      "text/plain": [
       "      fixed acidity  volatile acidity  citric acid  residual sugar  chlorides  \\\n",
       "0               7.4             0.700         0.00             1.9      0.076   \n",
       "1               7.8             0.880         0.00             2.6      0.098   \n",
       "2               7.8             0.760         0.04             2.3      0.092   \n",
       "3              11.2             0.280         0.56             1.9      0.075   \n",
       "4               7.4             0.700         0.00             1.9      0.076   \n",
       "...             ...               ...          ...             ...        ...   \n",
       "1594            6.2             0.600         0.08             2.0      0.090   \n",
       "1595            5.9             0.550         0.10             2.2      0.062   \n",
       "1596            6.3             0.510         0.13             2.3      0.076   \n",
       "1597            5.9             0.645         0.12             2.0      0.075   \n",
       "1598            6.0             0.310         0.47             3.6      0.067   \n",
       "\n",
       "      free sulfur dioxide  total sulfur dioxide  density    pH  sulphates  \\\n",
       "0                    11.0                  34.0  0.99780  3.51       0.56   \n",
       "1                    25.0                  67.0  0.99680  3.20       0.68   \n",
       "2                    15.0                  54.0  0.99700  3.26       0.65   \n",
       "3                    17.0                  60.0  0.99800  3.16       0.58   \n",
       "4                    11.0                  34.0  0.99780  3.51       0.56   \n",
       "...                   ...                   ...      ...   ...        ...   \n",
       "1594                 32.0                  44.0  0.99490  3.45       0.58   \n",
       "1595                 39.0                  51.0  0.99512  3.52       0.76   \n",
       "1596                 29.0                  40.0  0.99574  3.42       0.75   \n",
       "1597                 32.0                  44.0  0.99547  3.57       0.71   \n",
       "1598                 18.0                  42.0  0.99549  3.39       0.66   \n",
       "\n",
       "      alcohol  quality  \n",
       "0         9.4        5  \n",
       "1         9.8        5  \n",
       "2         9.8        5  \n",
       "3         9.8        6  \n",
       "4         9.4        5  \n",
       "...       ...      ...  \n",
       "1594     10.5        5  \n",
       "1595     11.2        6  \n",
       "1596     11.0        6  \n",
       "1597     10.2        5  \n",
       "1598     11.0        6  \n",
       "\n",
       "[1599 rows x 12 columns]"
      ]
     },
     "execution_count": 2,
     "metadata": {},
     "output_type": "execute_result"
    }
   ],
   "source": [
    "df = pd.read_csv(\"Data/winequality_red.csv\")\n",
    "df"
   ]
  },
  {
   "cell_type": "code",
   "execution_count": 3,
   "id": "d600dada",
   "metadata": {},
   "outputs": [
    {
     "name": "stdout",
     "output_type": "stream",
     "text": [
      "<class 'pandas.core.frame.DataFrame'>\n",
      "RangeIndex: 1599 entries, 0 to 1598\n",
      "Data columns (total 12 columns):\n",
      " #   Column                Non-Null Count  Dtype  \n",
      "---  ------                --------------  -----  \n",
      " 0   fixed acidity         1599 non-null   float64\n",
      " 1   volatile acidity      1599 non-null   float64\n",
      " 2   citric acid           1599 non-null   float64\n",
      " 3   residual sugar        1599 non-null   float64\n",
      " 4   chlorides             1599 non-null   float64\n",
      " 5   free sulfur dioxide   1599 non-null   float64\n",
      " 6   total sulfur dioxide  1599 non-null   float64\n",
      " 7   density               1599 non-null   float64\n",
      " 8   pH                    1599 non-null   float64\n",
      " 9   sulphates             1599 non-null   float64\n",
      " 10  alcohol               1599 non-null   float64\n",
      " 11  quality               1599 non-null   int64  \n",
      "dtypes: float64(11), int64(1)\n",
      "memory usage: 150.0 KB\n"
     ]
    }
   ],
   "source": [
    "df.info()"
   ]
  },
  {
   "cell_type": "code",
   "execution_count": 4,
   "id": "282ace1a",
   "metadata": {},
   "outputs": [
    {
     "data": {
      "text/plain": [
       "fixed acidity            96\n",
       "volatile acidity        143\n",
       "citric acid              80\n",
       "residual sugar           91\n",
       "chlorides               153\n",
       "free sulfur dioxide      60\n",
       "total sulfur dioxide    144\n",
       "density                 436\n",
       "pH                       89\n",
       "sulphates                96\n",
       "alcohol                  65\n",
       "quality                   6\n",
       "dtype: int64"
      ]
     },
     "execution_count": 4,
     "metadata": {},
     "output_type": "execute_result"
    }
   ],
   "source": [
    "# Menghitung nilai unique pada data\n",
    "df.nunique()"
   ]
  },
  {
   "cell_type": "code",
   "execution_count": 5,
   "id": "bfbeac62",
   "metadata": {},
   "outputs": [
    {
     "data": {
      "text/plain": [
       "fixed acidity           0\n",
       "volatile acidity        0\n",
       "citric acid             0\n",
       "residual sugar          0\n",
       "chlorides               0\n",
       "free sulfur dioxide     0\n",
       "total sulfur dioxide    0\n",
       "density                 0\n",
       "pH                      0\n",
       "sulphates               0\n",
       "alcohol                 0\n",
       "quality                 0\n",
       "dtype: int64"
      ]
     },
     "execution_count": 5,
     "metadata": {},
     "output_type": "execute_result"
    }
   ],
   "source": [
    "#Mengecek missing value\n",
    "df.isnull().sum()"
   ]
  },
  {
   "cell_type": "markdown",
   "id": "ad189697",
   "metadata": {},
   "source": [
    "## Data Exploration"
   ]
  },
  {
   "cell_type": "code",
   "execution_count": 6,
   "id": "3d5029a1",
   "metadata": {},
   "outputs": [
    {
     "data": {
      "text/html": [
       "<div>\n",
       "<style scoped>\n",
       "    .dataframe tbody tr th:only-of-type {\n",
       "        vertical-align: middle;\n",
       "    }\n",
       "\n",
       "    .dataframe tbody tr th {\n",
       "        vertical-align: top;\n",
       "    }\n",
       "\n",
       "    .dataframe thead th {\n",
       "        text-align: right;\n",
       "    }\n",
       "</style>\n",
       "<table border=\"1\" class=\"dataframe\">\n",
       "  <thead>\n",
       "    <tr style=\"text-align: right;\">\n",
       "      <th></th>\n",
       "      <th>quality</th>\n",
       "    </tr>\n",
       "  </thead>\n",
       "  <tbody>\n",
       "    <tr>\n",
       "      <th>0</th>\n",
       "      <td>5</td>\n",
       "    </tr>\n",
       "    <tr>\n",
       "      <th>1</th>\n",
       "      <td>6</td>\n",
       "    </tr>\n",
       "    <tr>\n",
       "      <th>2</th>\n",
       "      <td>7</td>\n",
       "    </tr>\n",
       "    <tr>\n",
       "      <th>3</th>\n",
       "      <td>4</td>\n",
       "    </tr>\n",
       "    <tr>\n",
       "      <th>4</th>\n",
       "      <td>8</td>\n",
       "    </tr>\n",
       "    <tr>\n",
       "      <th>5</th>\n",
       "      <td>3</td>\n",
       "    </tr>\n",
       "  </tbody>\n",
       "</table>\n",
       "</div>"
      ],
      "text/plain": [
       "   quality\n",
       "0        5\n",
       "1        6\n",
       "2        7\n",
       "3        4\n",
       "4        8\n",
       "5        3"
      ]
     },
     "execution_count": 6,
     "metadata": {},
     "output_type": "execute_result"
    }
   ],
   "source": [
    "# Cek Data quality\n",
    "df_quality = pd.DataFrame(\n",
    "    {\n",
    "        \"quality\":df[\"quality\"].unique(),\n",
    "    }\n",
    ")\n",
    "\n",
    "df_quality"
   ]
  },
  {
   "cell_type": "code",
   "execution_count": 7,
   "id": "806eebfa",
   "metadata": {},
   "outputs": [],
   "source": [
    "df.loc[df['quality'] < 7, \"quality\"] = 0 \n",
    "df.loc[df['quality'] >= 7, \"quality\"] = 1"
   ]
  },
  {
   "cell_type": "code",
   "execution_count": 8,
   "id": "4d960604",
   "metadata": {},
   "outputs": [
    {
     "data": {
      "text/plain": [
       "0    1382\n",
       "1     217\n",
       "Name: quality, dtype: int64"
      ]
     },
     "execution_count": 8,
     "metadata": {},
     "output_type": "execute_result"
    }
   ],
   "source": [
    "df_visquality = df['quality'].value_counts()\n",
    "df_visquality"
   ]
  },
  {
   "cell_type": "code",
   "execution_count": 9,
   "id": "664ec913",
   "metadata": {},
   "outputs": [
    {
     "data": {
      "image/png": "[encoded data removed]",
      "text/plain": [
       "<Figure size 1008x576 with 1 Axes>"
      ]
     },
     "metadata": {},
     "output_type": "display_data"
    }
   ],
   "source": [
    "pie_color=['salmon','palegreen']\n",
    "df_visquality.plot(kind=\"pie\", figsize=(14,8), startangle=90, autopct=\"%1.1f%%\", labels=None, colors=pie_color)\n",
    "plt.title('Persentase Jumlah Data Uber vs Lyft')\n",
    "plt.legend(labels=df_visquality.index)\n",
    "\n",
    "plt.show()"
   ]
  },
  {
   "cell_type": "markdown",
   "id": "f923a29c",
   "metadata": {},
   "source": [
    "## Data Preprocessing"
   ]
  },
  {
   "cell_type": "code",
   "execution_count": 10,
   "id": "1fd481c0",
   "metadata": {},
   "outputs": [
    {
     "name": "stdout",
     "output_type": "stream",
     "text": [
      "(1599, 11)\n",
      "(1599,)\n"
     ]
    }
   ],
   "source": [
    "X = df.drop(\"quality\", axis=1)\n",
    "Y = df[\"quality\"]\n",
    "\n",
    "print(X.shape)\n",
    "print(Y.shape)"
   ]
  },
  {
   "cell_type": "code",
   "execution_count": 11,
   "id": "e7025662",
   "metadata": {},
   "outputs": [],
   "source": [
    "X_train, X_test, y_train, y_test = train_test_split(X, Y, test_size=0.2, random_state=120)"
   ]
  },
  {
   "cell_type": "markdown",
   "id": "d8c32368",
   "metadata": {},
   "source": [
    "## Model Define"
   ]
  },
  {
   "cell_type": "markdown",
   "id": "94ef8325",
   "metadata": {},
   "source": [
    "### Logistic Regression"
   ]
  },
  {
   "cell_type": "markdown",
   "id": "50cc1836",
   "metadata": {},
   "source": [
    "#### Model"
   ]
  },
  {
   "cell_type": "code",
   "execution_count": 12,
   "id": "bc2a16dd",
   "metadata": {},
   "outputs": [
    {
     "data": {
      "text/plain": [
       "LogisticRegression()"
      ]
     },
     "execution_count": 12,
     "metadata": {},
     "output_type": "execute_result"
    }
   ],
   "source": [
    "lr = LogisticRegression()\n",
    "lr"
   ]
  },
  {
   "cell_type": "markdown",
   "id": "0c5b57bc",
   "metadata": {},
   "source": [
    "#### Training Result"
   ]
  },
  {
   "cell_type": "code",
   "execution_count": 13,
   "id": "cfc38a2d",
   "metadata": {},
   "outputs": [
    {
     "data": {
      "text/plain": [
       "0.8827208756841283"
      ]
     },
     "execution_count": 13,
     "metadata": {},
     "output_type": "execute_result"
    }
   ],
   "source": [
    "lr.fit(X_train, y_train)\n",
    "lr.score(X_train, y_train)"
   ]
  },
  {
   "cell_type": "markdown",
   "id": "e901d4d3",
   "metadata": {},
   "source": [
    "#### Testing Result"
   ]
  },
  {
   "cell_type": "code",
   "execution_count": 14,
   "id": "47f4f8ff",
   "metadata": {},
   "outputs": [
    {
     "name": "stdout",
     "output_type": "stream",
     "text": [
      "Result Logistic Regression : 86.25 %\n"
     ]
    }
   ],
   "source": [
    "lr_pred = lr.predict(X_test)\n",
    "print(\"Result Logistic Regression :\", round(accuracy_score(y_test, lr_pred),4) * 100,\"%\")"
   ]
  },
  {
   "cell_type": "markdown",
   "id": "dec27010",
   "metadata": {},
   "source": [
    "#### Logistic Regression Model Conclusion"
   ]
  },
  {
   "cell_type": "markdown",
   "id": "1d8da2b7",
   "metadata": {},
   "source": [
    "##### Num"
   ]
  },
  {
   "cell_type": "code",
   "execution_count": 15,
   "id": "cc8b9d86",
   "metadata": {},
   "outputs": [
    {
     "name": "stdout",
     "output_type": "stream",
     "text": [
      "=============================================================\n",
      "\u001b[1m Logistic Regression Model Conclusion \u001b[0m\n",
      "=============================================================\n",
      "Logistic Regression Model Accuracy:  0.8625\n",
      "Logistic Regression Model f1 score:  0.3529411764705882\n",
      "Logistic Regression Model MAE:  0.1375\n",
      "Logistic Regression Model RMSE:  0.37080992435478316\n",
      "=============================================================\n"
     ]
    }
   ],
   "source": [
    "#Ringkasan Evaluasi Model Logistic Regression\n",
    "print(\"=============================================================\")\n",
    "print(bold,'Logistic Regression Model Conclusion',normal)\n",
    "print(\"=============================================================\")\n",
    "print('Logistic Regression Model Accuracy: ', accuracy_score(y_test, lr_pred))\n",
    "print('Logistic Regression Model f1 score: ', metrics.f1_score(y_test, lr_pred))\n",
    "print('Logistic Regression Model MAE: ', metrics.mean_absolute_error(y_test, lr_pred))\n",
    "print('Logistic Regression Model RMSE: ', np.sqrt(metrics.mean_squared_error(y_test, lr_pred)))\n",
    "print(\"=============================================================\")"
   ]
  },
  {
   "cell_type": "markdown",
   "id": "4bbbd4c8",
   "metadata": {},
   "source": [
    "##### Vis"
   ]
  },
  {
   "cell_type": "code",
   "execution_count": 16,
   "id": "e28dcb4b",
   "metadata": {},
   "outputs": [
    {
     "data": {
      "image/png": "[encoded data removed]",
      "text/plain": [
       "<Figure size 432x288 with 2 Axes>"
      ]
     },
     "metadata": {
      "needs_background": "light"
     },
     "output_type": "display_data"
    }
   ],
   "source": [
    "sns.heatmap(confusion_matrix(y_test, lr_pred), annot=True, cmap='Reds')\n",
    "plt.ylabel('Predicted Values')\n",
    "plt.xlabel('Actual Values')\n",
    "plt.title('Confusion Matrix for Logistic Regression')\n",
    "plt.show()"
   ]
  },
  {
   "cell_type": "markdown",
   "id": "2ad4fa83",
   "metadata": {},
   "source": [
    "### Support Vector Machine"
   ]
  },
  {
   "cell_type": "markdown",
   "id": "d9d15166",
   "metadata": {},
   "source": [
    "#### Model"
   ]
  },
  {
   "cell_type": "code",
   "execution_count": 17,
   "id": "ef36d241",
   "metadata": {},
   "outputs": [
    {
     "data": {
      "text/plain": [
       "SVC(kernel='linear')"
      ]
     },
     "execution_count": 17,
     "metadata": {},
     "output_type": "execute_result"
    }
   ],
   "source": [
    "clf = svm.SVC(kernel='linear')\n",
    "clf"
   ]
  },
  {
   "cell_type": "markdown",
   "id": "d0d0df65",
   "metadata": {},
   "source": [
    "#### Training Result"
   ]
  },
  {
   "cell_type": "code",
   "execution_count": 18,
   "id": "6a601dfc",
   "metadata": {},
   "outputs": [
    {
     "data": {
      "text/plain": [
       "0.8686473807662236"
      ]
     },
     "execution_count": 18,
     "metadata": {},
     "output_type": "execute_result"
    }
   ],
   "source": [
    "clf.fit(X_train, y_train)\n",
    "clf.score(X_train, y_train)"
   ]
  },
  {
   "cell_type": "markdown",
   "id": "7eac4f96",
   "metadata": {},
   "source": [
    "#### Testing Result"
   ]
  },
  {
   "cell_type": "code",
   "execution_count": 19,
   "id": "08a9f31b",
   "metadata": {},
   "outputs": [
    {
     "name": "stdout",
     "output_type": "stream",
     "text": [
      "Result Support Vector Machine : 84.69 %\n"
     ]
    }
   ],
   "source": [
    "clf_pred = clf.predict(X_test)\n",
    "print(\"Result Support Vector Machine :\", round(accuracy_score(y_test, clf_pred),4) * 100,\"%\")"
   ]
  },
  {
   "cell_type": "markdown",
   "id": "06c9c0d8",
   "metadata": {},
   "source": [
    "#### Support Vector Machine Model Conclusion"
   ]
  },
  {
   "cell_type": "markdown",
   "id": "7c6be187",
   "metadata": {},
   "source": [
    "##### Num"
   ]
  },
  {
   "cell_type": "code",
   "execution_count": 20,
   "id": "51a301c0",
   "metadata": {},
   "outputs": [
    {
     "name": "stdout",
     "output_type": "stream",
     "text": [
      "=============================================================\n",
      "\u001b[1m Support Vector Machine Model Conclusion \u001b[0m\n",
      "=============================================================\n",
      "Support Vector Machine Model Accuracy:  0.846875\n",
      "Support Vector Machine Model f1 score:  0.0\n",
      "Support Vector Machine Model MAE:  0.153125\n",
      "Support Vector Machine Model RMSE:  0.3913118960624632\n",
      "=============================================================\n"
     ]
    }
   ],
   "source": [
    "#Ringkasan Evaluasi Model Support Vector Machine\n",
    "print(\"=============================================================\")\n",
    "print(bold,'Support Vector Machine Model Conclusion',normal)\n",
    "print(\"=============================================================\")\n",
    "print('Support Vector Machine Model Accuracy: ', accuracy_score(y_test, clf_pred))\n",
    "print('Support Vector Machine Model f1 score: ', metrics.f1_score(y_test, clf_pred))\n",
    "print('Support Vector Machine Model MAE: ', metrics.mean_absolute_error(y_test, clf_pred))\n",
    "print('Support Vector Machine Model RMSE: ', np.sqrt(metrics.mean_squared_error(y_test, clf_pred)))\n",
    "print(\"=============================================================\")"
   ]
  },
  {
   "cell_type": "markdown",
   "id": "3942d8dc",
   "metadata": {},
   "source": [
    "##### Vis"
   ]
  },
  {
   "cell_type": "code",
   "execution_count": 21,
   "id": "f8a66a4d",
   "metadata": {},
   "outputs": [
    {
     "data": {
      "image/png": "[encoded data removed]",
      "text/plain": [
       "<Figure size 432x288 with 2 Axes>"
      ]
     },
     "metadata": {
      "needs_background": "light"
     },
     "output_type": "display_data"
    }
   ],
   "source": [
    "sns.heatmap(confusion_matrix(y_test, clf_pred), annot=True, cmap='Reds')\n",
    "plt.ylabel('Predicted Values')\n",
    "plt.xlabel('Actual Values')\n",
    "plt.title('Confusion Matrix for Support Vector Machine')\n",
    "plt.show()"
   ]
  },
  {
   "cell_type": "markdown",
   "id": "2340b7d9",
   "metadata": {},
   "source": [
    "### KNN"
   ]
  },
  {
   "cell_type": "markdown",
   "id": "ce87c298",
   "metadata": {},
   "source": [
    "#### Model"
   ]
  },
  {
   "cell_type": "code",
   "execution_count": 22,
   "id": "28d9f963",
   "metadata": {},
   "outputs": [
    {
     "data": {
      "text/plain": [
       "KNeighborsClassifier(n_neighbors=16)"
      ]
     },
     "execution_count": 22,
     "metadata": {},
     "output_type": "execute_result"
    }
   ],
   "source": [
    "knn = KNeighborsClassifier(n_neighbors=16)\n",
    "knn"
   ]
  },
  {
   "cell_type": "markdown",
   "id": "30a97418",
   "metadata": {},
   "source": [
    "#### Training Result"
   ]
  },
  {
   "cell_type": "code",
   "execution_count": 23,
   "id": "bd4c37d2",
   "metadata": {},
   "outputs": [
    {
     "data": {
      "text/plain": [
       "0.872556684910086"
      ]
     },
     "execution_count": 23,
     "metadata": {},
     "output_type": "execute_result"
    }
   ],
   "source": [
    "knn.fit(X_train, y_train)\n",
    "knn.score(X_train, y_train)"
   ]
  },
  {
   "cell_type": "markdown",
   "id": "38e78816",
   "metadata": {},
   "source": [
    "#### Testing Result"
   ]
  },
  {
   "cell_type": "code",
   "execution_count": 24,
   "id": "06d9bc5f",
   "metadata": {},
   "outputs": [
    {
     "name": "stdout",
     "output_type": "stream",
     "text": [
      "Result KNN : 85.31 %\n"
     ]
    }
   ],
   "source": [
    "knn_pred = knn.predict(X_test)\n",
    "print(\"Result KNN :\", round(accuracy_score(y_test, knn_pred),4) * 100,\"%\")"
   ]
  },
  {
   "cell_type": "markdown",
   "id": "da5a96cb",
   "metadata": {},
   "source": [
    "#### KNN Model Conclusion"
   ]
  },
  {
   "cell_type": "markdown",
   "id": "8af37ac5",
   "metadata": {},
   "source": [
    "##### Num"
   ]
  },
  {
   "cell_type": "code",
   "execution_count": 25,
   "id": "40714b99",
   "metadata": {},
   "outputs": [
    {
     "name": "stdout",
     "output_type": "stream",
     "text": [
      "=============================================================\n",
      "\u001b[1m KNN Model Conclusion \u001b[0m\n",
      "=============================================================\n",
      "KNN Model Accuracy:  0.853125\n",
      "KNN Model f1 score:  0.07843137254901959\n",
      "KNN Model MAE:  0.146875\n",
      "KNN Model RMSE:  0.3832427429188973\n",
      "=============================================================\n"
     ]
    }
   ],
   "source": [
    "#Ringkasan Evaluasi Model Support Vector Machine\n",
    "print(\"=============================================================\")\n",
    "print(bold,'KNN Model Conclusion',normal)\n",
    "print(\"=============================================================\")\n",
    "print('KNN Model Accuracy: ', accuracy_score(y_test, knn_pred))\n",
    "print('KNN Model f1 score: ', metrics.f1_score(y_test, knn_pred))\n",
    "print('KNN Model MAE: ', metrics.mean_absolute_error(y_test, knn_pred))\n",
    "print('KNN Model RMSE: ', np.sqrt(metrics.mean_squared_error(y_test, knn_pred)))\n",
    "print(\"=============================================================\")"
   ]
  },
  {
   "cell_type": "markdown",
   "id": "6138059e",
   "metadata": {},
   "source": [
    "##### Vis"
   ]
  },
  {
   "cell_type": "code",
   "execution_count": 26,
   "id": "006b44bc",
   "metadata": {},
   "outputs": [
    {
     "data": {
      "image/png": "[encoded data removed]",
      "text/plain": [
       "<Figure size 432x288 with 2 Axes>"
      ]
     },
     "metadata": {
      "needs_background": "light"
     },
     "output_type": "display_data"
    }
   ],
   "source": [
    "sns.heatmap(confusion_matrix(y_test, knn_pred), annot=True, cmap='Reds')\n",
    "plt.ylabel('Predicted Values')\n",
    "plt.xlabel('Actual Values')\n",
    "plt.title('Confusion Matrix for KNN')\n",
    "plt.show()"
   ]
  },
  {
   "cell_type": "markdown",
   "id": "7b7fd9e0",
   "metadata": {},
   "source": [
    "### Decision Tree"
   ]
  },
  {
   "cell_type": "markdown",
   "id": "2c82b53d",
   "metadata": {},
   "source": [
    "#### Model"
   ]
  },
  {
   "cell_type": "code",
   "execution_count": 27,
   "id": "2333eb7e",
   "metadata": {},
   "outputs": [
    {
     "data": {
      "text/plain": [
       "DecisionTreeClassifier()"
      ]
     },
     "execution_count": 27,
     "metadata": {},
     "output_type": "execute_result"
    }
   ],
   "source": [
    "dtree = DecisionTreeClassifier()\n",
    "dtree"
   ]
  },
  {
   "cell_type": "markdown",
   "id": "36c0383a",
   "metadata": {},
   "source": [
    "#### Training Result"
   ]
  },
  {
   "cell_type": "code",
   "execution_count": 28,
   "id": "5be94fd8",
   "metadata": {},
   "outputs": [
    {
     "data": {
      "text/plain": [
       "1.0"
      ]
     },
     "execution_count": 28,
     "metadata": {},
     "output_type": "execute_result"
    }
   ],
   "source": [
    "dtree.fit(X_train, y_train)\n",
    "dtree.score(X_train, y_train)"
   ]
  },
  {
   "cell_type": "markdown",
   "id": "96f0ccd9",
   "metadata": {},
   "source": [
    "#### Testing Result"
   ]
  },
  {
   "cell_type": "code",
   "execution_count": 29,
   "id": "41cb9066",
   "metadata": {},
   "outputs": [
    {
     "name": "stdout",
     "output_type": "stream",
     "text": [
      "Result Decision Tree : 84.69 %\n"
     ]
    }
   ],
   "source": [
    "dt_pred = dtree.predict(X_test)\n",
    "print(\"Result Decision Tree :\", round(accuracy_score(y_test, dt_pred),4) * 100,\"%\")"
   ]
  },
  {
   "cell_type": "markdown",
   "id": "99bb1ef6",
   "metadata": {},
   "source": [
    "#### Decision Tree Model Conclusion"
   ]
  },
  {
   "cell_type": "markdown",
   "id": "33f8b082",
   "metadata": {},
   "source": [
    "##### Num"
   ]
  },
  {
   "cell_type": "code",
   "execution_count": 30,
   "id": "b57b0900",
   "metadata": {},
   "outputs": [
    {
     "name": "stdout",
     "output_type": "stream",
     "text": [
      "=============================================================\n",
      "\u001b[1m Decision Tree Model Conclusion \u001b[0m\n",
      "=============================================================\n",
      "Decision Tree Model Accuracy:  0.846875\n",
      "Decision Tree Model f1 score:  0.4842105263157895\n",
      "Decision Tree Model MAE:  0.153125\n",
      "Decision Tree Model RMSE:  0.3913118960624632\n",
      "=============================================================\n"
     ]
    }
   ],
   "source": [
    "#Ringkasan Evaluasi Model Support Vector Machine\n",
    "print(\"=============================================================\")\n",
    "print(bold,'Decision Tree Model Conclusion',normal)\n",
    "print(\"=============================================================\")\n",
    "print('Decision Tree Model Accuracy: ', accuracy_score(y_test, dt_pred))\n",
    "print('Decision Tree Model f1 score: ', metrics.f1_score(y_test, dt_pred))\n",
    "print('Decision Tree Model MAE: ', metrics.mean_absolute_error(y_test, dt_pred))\n",
    "print('Decision Tree Model RMSE: ', np.sqrt(metrics.mean_squared_error(y_test, dt_pred)))\n",
    "print(\"=============================================================\")"
   ]
  },
  {
   "cell_type": "markdown",
   "id": "2272bc7e",
   "metadata": {},
   "source": [
    "##### Vis"
   ]
  },
  {
   "cell_type": "code",
   "execution_count": 31,
   "id": "085965d0",
   "metadata": {},
   "outputs": [
    {
     "data": {
      "image/png": "[encoded data removed]",
      "text/plain": [
       "<Figure size 432x288 with 2 Axes>"
      ]
     },
     "metadata": {
      "needs_background": "light"
     },
     "output_type": "display_data"
    }
   ],
   "source": [
    "sns.heatmap(confusion_matrix(y_test, dt_pred), annot=True, cmap='Reds')\n",
    "plt.ylabel('Predicted Values')\n",
    "plt.xlabel('Actual Values')\n",
    "plt.title('Confusion Matrix for Decision Tree')\n",
    "plt.show()"
   ]
  },
  {
   "cell_type": "markdown",
   "id": "fceabb2f",
   "metadata": {},
   "source": [
    "## Conclusion"
   ]
  },
  {
   "cell_type": "code",
   "execution_count": 32,
   "id": "55a3fd9b",
   "metadata": {},
   "outputs": [
    {
     "name": "stdout",
     "output_type": "stream",
     "text": [
      "Based on the results of Red Wine Quality data testing, it was found that the best training accuracy was in the Decision Tree model of 100 % while the best testing accuracy was in the Logistic Regression model of 86.25 %.\n"
     ]
    }
   ],
   "source": [
    "print(\"Based on the results of Red Wine Quality data testing, it was found that the best training accuracy was in the Decision Tree model of\", round(dtree.score(X_train, y_train)) * 100,\"% while the best testing accuracy was in the Logistic Regression model of\",round(accuracy_score(y_test, lr_pred),4) * 100,\"%.\")"
   ]
  }
 ],
 "metadata": {
  "kernelspec": {
   "display_name": "Python 3 (ipykernel)",
   "language": "python",
   "name": "python3"
  },
  "language_info": {
   "codemirror_mode": {
    "name": "ipython",
    "version": 3
   },
   "file_extension": ".py",
   "mimetype": "text/x-python",
   "name": "python",
   "nbconvert_exporter": "python",
   "pygments_lexer": "ipython3",
   "version": "3.9.12"
  },
  "toc": {
   "base_numbering": 1,
   "nav_menu": {},
   "number_sections": true,
   "sideBar": true,
   "skip_h1_title": false,
   "title_cell": "Table of Contents",
   "title_sidebar": "Contents",
   "toc_cell": false,
   "toc_position": {},
   "toc_section_display": true,
   "toc_window_display": false
  }
 },
 "nbformat": 4,
 "nbformat_minor": 5
}
